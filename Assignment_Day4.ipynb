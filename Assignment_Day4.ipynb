{
 "cells": [
  {
   "cell_type": "code",
   "execution_count": 1,
   "id": "363d0d7f-0c25-48d5-a8d3-3ab2360249d1",
   "metadata": {},
   "outputs": [],
   "source": [
    "#Q1\n",
    "import numpy as np"
   ]
  },
  {
   "cell_type": "code",
   "execution_count": 12,
   "id": "91553af0-dbdd-4f56-88be-216ce7006f29",
   "metadata": {},
   "outputs": [
    {
     "name": "stdout",
     "output_type": "stream",
     "text": [
      "[[ 0  1  2  3  4]\n",
      " [ 5  6  7  8  9]\n",
      " [10 11 12 13 14]\n",
      " [15 16 17 18 19]\n",
      " [20 21 22 23 24]]\n"
     ]
    }
   ],
   "source": [
    "a = np.arange(25).reshape(5, 5)\n",
    "print(a)"
   ]
  },
  {
   "cell_type": "code",
   "execution_count": 14,
   "id": "81e257a1-3f06-437f-88ef-92538df6c8cf",
   "metadata": {},
   "outputs": [
    {
     "name": "stdout",
     "output_type": "stream",
     "text": [
      "7\n"
     ]
    }
   ],
   "source": [
    "print(a[1][2])"
   ]
  },
  {
   "cell_type": "code",
   "execution_count": 22,
   "id": "0e70006f-5dce-40fa-85cf-252a5b3223de",
   "metadata": {},
   "outputs": [],
   "source": [
    "a[a%2!=0]=-1\n"
   ]
  },
  {
   "cell_type": "code",
   "execution_count": 24,
   "id": "20325ae0-b026-4313-9ae0-403e132fe3d0",
   "metadata": {},
   "outputs": [
    {
     "data": {
      "text/plain": [
       "array([[ 0, -1,  2, -1,  4],\n",
       "       [-1,  6, -1,  8, -1],\n",
       "       [10, -1, 12, -1, 14],\n",
       "       [-1, 16, -1, 18, -1],\n",
       "       [20, -1, 22, -1, 24]])"
      ]
     },
     "execution_count": 24,
     "metadata": {},
     "output_type": "execute_result"
    }
   ],
   "source": [
    "a"
   ]
  },
  {
   "cell_type": "code",
   "execution_count": 1,
   "id": "b62793d8-16dc-4b2f-818f-43520669d715",
   "metadata": {},
   "outputs": [
    {
     "name": "stdout",
     "output_type": "stream",
     "text": [
      "Original Array:\n",
      " [[[32 26 45 47]\n",
      "  [47 36 15 22]\n",
      "  [34 39 19 26]]\n",
      "\n",
      " [[44 33 21 49]\n",
      "  [39 37 30 42]\n",
      "  [34 14 27 30]]]\n",
      "\n",
      "Sliced (last 2 elements from each inner-most array):\n",
      " [[[45 47]\n",
      "  [15 22]\n",
      "  [19 26]]\n",
      "\n",
      " [[21 49]\n",
      "  [30 42]\n",
      "  [27 30]]]\n",
      "\n",
      "Array after subtracting 10:\n",
      " [[[22 16 35 37]\n",
      "  [37 26  5 12]\n",
      "  [24 29  9 16]]\n",
      "\n",
      " [[34 23 11 39]\n",
      "  [29 27 20 32]\n",
      "  [24  4 17 20]]]\n"
     ]
    }
   ],
   "source": [
    "#Q2\n",
    "import numpy as np\n",
    "\n",
    "array = np.random.randint(10, 51, size=(2, 3, 4))\n",
    "print(\"Original Array:\\n\", array)\n",
    "\n",
    "sliced = array[:, :, -2:]\n",
    "print(\"\\nSliced (last 2 elements from each inner-most array):\\n\", sliced)\n",
    "\n",
    "subtracted = array - 10\n",
    "print(\"\\nArray after subtracting 10:\\n\", subtracted)\n"
   ]
  },
  {
   "cell_type": "code",
   "execution_count": 2,
   "id": "76d2cebb-62df-4d08-8cca-824e8820b565",
   "metadata": {},
   "outputs": [
    {
     "name": "stdout",
     "output_type": "stream",
     "text": [
      "Virat        65\n",
      "Gayle        70\n",
      "Dravid       85\n",
      "Hazelwood    90\n",
      "Dhoni        55\n",
      "dtype: int64\n",
      "\n",
      "Average Marks: 73.0\n",
      "\n",
      "Students who scored more than 75:\n",
      " Dravid       85\n",
      "Hazelwood    90\n",
      "dtype: int64\n"
     ]
    }
   ],
   "source": [
    "import pandas as pd\n",
    "\n",
    "marks = [65, 70, 85, 90, 55]\n",
    "student_names = ['Virat', 'Gayle', 'Dravid', 'Hazelwood', 'Dhoni']\n",
    "student_series = pd.Series(marks, index=student_names)\n",
    "\n",
    "average_marks = student_series.mean()\n",
    "students_above_75 = student_series[student_series > 75]\n",
    "\n",
    "print(student_series)\n",
    "print(\"\\nAverage Marks:\", average_marks)\n",
    "print(\"\\nStudents who scored more than 75:\\n\", students_above_75)\n"
   ]
  },
  {
   "cell_type": "code",
   "execution_count": 3,
   "id": "84ad8120-2456-4b3c-a2cf-7d5ccc781ba8",
   "metadata": {},
   "outputs": [
    {
     "name": "stdout",
     "output_type": "stream",
     "text": [
      "   EmpID      Name Department  Salary   Bonus\n",
      "0    111    Shilpa         HR   50000  5000.0\n",
      "1    222    Pushpa         IT   60000  6000.0\n",
      "2    333    Rajani    Finance   55000  5500.0\n",
      "3    444   Dhanush  Marketing   70000  7000.0\n",
      "4    555  Shashank      Sales   45000  4500.0\n",
      "\n",
      "Data Types:\n",
      " EmpID          int64\n",
      "Name          object\n",
      "Department    object\n",
      "Salary         int64\n",
      "dtype: object\n"
     ]
    }
   ],
   "source": [
    "import pandas as pd\n",
    "\n",
    "data = {\n",
    "    'EmpID': [111, 222, 333, 444, 555],\n",
    "    'Name': ['Shilpa', 'Pushpa', 'Rajani', 'Dhanush', 'Shashank'],\n",
    "    'Department': ['HR', 'IT', 'Finance', 'Marketing', 'Sales'],\n",
    "    'Salary': [50000, 60000, 55000, 70000, 45000]\n",
    "}\n",
    "\n",
    "df = pd.DataFrame(data)\n",
    "\n",
    "data_types = df.dtypes\n",
    "df['Bonus'] = df['Salary'] * 0.10\n",
    "\n",
    "print(df)\n",
    "print(\"\\nData Types:\\n\", data_types)\n"
   ]
  },
  {
   "cell_type": "code",
   "execution_count": null,
   "id": "b87717e5-cd8d-46c9-950c-e26dfd326dc4",
   "metadata": {},
   "outputs": [],
   "source": []
  }
 ],
 "metadata": {
  "kernelspec": {
   "display_name": "Python 3 (ipykernel)",
   "language": "python",
   "name": "python3"
  },
  "language_info": {
   "codemirror_mode": {
    "name": "ipython",
    "version": 3
   },
   "file_extension": ".py",
   "mimetype": "text/x-python",
   "name": "python",
   "nbconvert_exporter": "python",
   "pygments_lexer": "ipython3",
   "version": "3.12.7"
  }
 },
 "nbformat": 4,
 "nbformat_minor": 5
}
